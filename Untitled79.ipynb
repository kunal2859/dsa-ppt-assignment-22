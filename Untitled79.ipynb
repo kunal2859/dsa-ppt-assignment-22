{
 "cells": [
  {
   "cell_type": "code",
   "execution_count": 2,
   "id": "71af3bcf",
   "metadata": {},
   "outputs": [
    {
     "name": "stdout",
     "output_type": "stream",
     "text": [
      "25 12 30 10 36 15 "
     ]
    }
   ],
   "source": [
    "class Node:\n",
    "    def __init__(self, val):\n",
    "        self.right = None\n",
    "        self.data = val\n",
    "        self.left = None\n",
    "        \n",
    "prev = None\n",
    "def BinaryTree2DoubleLinkedList(root):\n",
    "    if root is None:\n",
    "        return root\n",
    "              \n",
    "    head = BinaryTree2DoubleLinkedList(root.left);\n",
    "    global prev\n",
    "    if prev is None : \n",
    "        head = root\n",
    "    else:\n",
    "        root.left = prev\n",
    "        prev.right = root\n",
    "    prev = root; \n",
    "    BinaryTree2DoubleLinkedList(root.right);\n",
    "    return head\n",
    "  \n",
    "def print_dll(head):\n",
    "    while head is not None:\n",
    "        print(head.data, end=\" \")\n",
    "        head = head.right\n",
    "        \n",
    "root = Node(10)\n",
    "root.left = Node(12)\n",
    "root.right = Node(15)\n",
    "root.left.left = Node(25)\n",
    "root.left.right = Node(30)\n",
    "root.right.left = Node(36)\n",
    "head = BinaryTree2DoubleLinkedList(root)\n",
    "print_dll(head)"
   ]
  },
  {
   "cell_type": "code",
   "execution_count": 5,
   "id": "f329b7fc",
   "metadata": {},
   "outputs": [
    {
     "name": "stdout",
     "output_type": "stream",
     "text": [
      "2 3 1 4 5 "
     ]
    }
   ],
   "source": [
    "class Node:\n",
    "    def __init__(self, data):\n",
    "       \n",
    "        self.data = data\n",
    "        self.right = None\n",
    "        self.left = None\n",
    "\n",
    "def flipBinaryTree(root):\n",
    "    if root is None:\n",
    "        return root\n",
    "     \n",
    "    if (root.left is None and\n",
    "        root.right is None):\n",
    "        return root\n",
    "    flippedRoot = flipBinaryTree(root.left)\n",
    "    root.left.left = root.right\n",
    "    root.left.right = root\n",
    "    root.left = root.right = None\n",
    " \n",
    "    return flippedRoot\n",
    "\n",
    "def printLevelOrder(root):\n",
    "    if root is None:\n",
    "        return\n",
    "    from queue import Queue\n",
    "    q = Queue()\n",
    "    q.put(root)\n",
    "    while(True):\n",
    "        nodeCount = q.qsize()\n",
    "        if nodeCount == 0:\n",
    "            break\n",
    "        while nodeCount > 0:\n",
    "            node = q.get()\n",
    "            print(node.data, end=\" \")\n",
    "            if node.left is not None:\n",
    "                q.put(node.left)\n",
    "            if node.right is not None:\n",
    "                q.put(node.right)\n",
    "            nodeCount -= 1\n",
    " \n",
    "        print\n",
    "\n",
    "root = Node(1)\n",
    "root.left = Node(2)\n",
    "root.right = Node(3)\n",
    "root.right.left = Node(4)\n",
    "root.right.right = Node(5)\n",
    "root = flipBinaryTree(root)\n",
    "printLevelOrder(root)"
   ]
  },
  {
   "cell_type": "code",
   "execution_count": 8,
   "id": "64e019a6",
   "metadata": {},
   "outputs": [
    {
     "name": "stdout",
     "output_type": "stream",
     "text": [
      "6 -> 3 -> 2\n",
      "6 -> 3 -> 5 -> 7\n",
      "6 -> 3 -> 5 -> 4\n",
      "6 -> 5 -> 4\n"
     ]
    }
   ],
   "source": [
    "class Node:\n",
    "    def __init__(self, data):\n",
    "        self.data = data\n",
    "        self.right = None\n",
    "        self.left = None\n",
    "\n",
    "def printRootToLeafPaths(root):\n",
    "    if root is None:\n",
    "        return\n",
    "    \n",
    "    stack = [(root, str(root.data))]\n",
    "    \n",
    "    while stack:\n",
    "        node, path = stack.pop()\n",
    "        \n",
    "        if node.left is None and node.right is None:\n",
    "            print(path)\n",
    "        \n",
    "        if node.right is not None:\n",
    "            stack.append((node.right, path + \" -> \" + str(node.right.data)))\n",
    "        \n",
    "        if node.left is not None:\n",
    "            stack.append((node.left, path + \" -> \" + str(node.left.data)))\n",
    "\n",
    "\n",
    "root = Node(6)\n",
    "root.left = Node(3)\n",
    "root.right = Node(5)\n",
    "root.left.left = Node(2)\n",
    "root.left.right = Node(5)\n",
    "root.right.right = Node(4)\n",
    "root.left.right.left = Node(7)\n",
    "root.left.right.right = Node(4)\n",
    "printRootToLeafPaths(root)"
   ]
  },
  {
   "cell_type": "code",
   "execution_count": 13,
   "id": "32d1f8f5",
   "metadata": {},
   "outputs": [
    {
     "name": "stdout",
     "output_type": "stream",
     "text": [
      "False\n"
     ]
    }
   ],
   "source": [
    "def isSameTree(preorder, inorder, postorder):\n",
    "    if not preorder and not inorder and not postorder:\n",
    "        return True\n",
    "    \n",
    "    if preorder[0] != inorder[0] or preorder[0] != postorder[-1]:\n",
    "        return False\n",
    "    \n",
    "    root = preorder[0]\n",
    "    root_index = inorder.index(root)\n",
    "    \n",
    "    left_inorder = inorder[:root_index]\n",
    "    right_inorder = inorder[root_index+1:]\n",
    "    \n",
    "    left_preorder = preorder[1:root_index+1]\n",
    "    right_preorder = preorder[root_index+1:]\n",
    "    \n",
    "    left_postorder = postorder[:root_index]\n",
    "    right_postorder = postorder[root_index:-1]\n",
    "    \n",
    "    return isSameTree(left_preorder, left_inorder, left_postorder) and isSameTree(right_preorder, right_inorder, right_postorder)\n",
    "\n",
    "def checkTraversal(inorder, preorder, postorder):\n",
    "    if len(inorder) != len(preorder) or len(preorder) != len(postorder):\n",
    "        return False\n",
    "    \n",
    "    return isSameTree(preorder, inorder, postorder)\n",
    "\n",
    "inorder = [4, 2, 5, 1, 3]\n",
    "preorder = [1, 5, 4, 2, 3]\n",
    "postorder = [4, 1, 2, 3, 5]\n",
    "same_tree = checkTraversal(inorder, preorder, postorder)\n",
    "print(same_tree)  "
   ]
  }
 ],
 "metadata": {
  "kernelspec": {
   "display_name": "Python 3 (ipykernel)",
   "language": "python",
   "name": "python3"
  },
  "language_info": {
   "codemirror_mode": {
    "name": "ipython",
    "version": 3
   },
   "file_extension": ".py",
   "mimetype": "text/x-python",
   "name": "python",
   "nbconvert_exporter": "python",
   "pygments_lexer": "ipython3",
   "version": "3.9.13"
  }
 },
 "nbformat": 4,
 "nbformat_minor": 5
}
